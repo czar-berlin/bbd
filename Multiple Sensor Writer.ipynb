{
 "cells": [
  {
   "cell_type": "code",
   "execution_count": 1,
   "metadata": {
    "collapsed": true
   },
   "outputs": [
    {
     "name": "stdout",
     "output_type": "stream",
     "text": [
      "15:gh:45:se\n",
      "\n",
      "56:HH:rf:54\n",
      "\n",
      "WE:54:12:00\n",
      "\n",
      "GH:DE:ER:DE\n",
      "\n",
      "GH:67:34:24\n",
      "\n",
      "FK:TU:ER:FF\n"
     ]
    }
   ],
   "source": [
    "from datetime import datetime as dt\n",
    "import time as tm #Implement a delay using sleep. \n",
    "import pandas as pd \n",
    "\n",
    "#---------------Method 1 ---------------#\n",
    "file = open(\"sensor_list.txt\", 'r')\n",
    "file.seek(0)\n",
    "sensor_name = file.readlines()\n",
    "stepper = 0\n",
    "\n",
    "\n",
    "\n",
    "\n",
    "\n",
    "        \n",
    "today = dt.today()\n",
    "filename = str(today.year)+\"-\"+str(today.month)+\"-\"+str(today.day)+\"-\"+str(today.hour)+\"_\"+str(today.minute)\n",
    "\n",
    "check_sensor = True #Assign check_sensor to self.adr to fetch the address of the sensor. \n",
    "\n",
    "for items in sensor_name: #Goes through the list of sensors in the text file. Better would be to use pandas and read an excel file. \n",
    "    \n",
    "    if check_sensor == True: #Checks if the address exists in \n",
    "        print(sensor_name[stepper])\n",
    "        '''Can replace with the actual file writing code.'''\n",
    "        new_file=open(filename+\"_sensor_\"+str(stepper)+\".txt\", 'w+')\n",
    "        new_file.write(\"This is a test file\"+str(stepper+1))\n",
    "        new_file.close()\n",
    "        \n",
    "        '''\n",
    "        just tried another way to write to csv, using data frame.\n",
    "        \n",
    "        dataframe = {\"Lux Data\":[0,2,3,4,5,5,3,4,3,2,2,3,4],\"Temp\":[0,34,2,3,2,1,45,34,23,5,66,4,67],\"Sensor_Tag\":[0,1,2,3,4,5,6,7,8,9,10,11,12]}\n",
    "        df_new = pd.DataFrame(data=dataframe)\n",
    "        df_new.to_csv(path_or_buf=filename+\"_sensor_\"+str(stepper)+\".csv\")       \n",
    "        '''\n",
    "    else:\n",
    "        pass\n",
    "        \n",
    "    stepper=stepper+1   "
   ]
  },
  {
   "cell_type": "code",
   "execution_count": 10,
   "metadata": {},
   "outputs": [],
   "source": [
    "import pandas as pd\n",
    "data = pd.read_excel(\"Sensor_List.xlsx\", header=0)\n",
    "\n",
    "#---------------Method 2 ---------------#\n",
    "check = \"12:KL:JU:12\"\n",
    "\n",
    "Sensor_List =list(data.SensorList)\n",
    "for items in data:\n",
    "    print (items)\n",
    "  \n",
    "    if check in Sensor_List:\n",
    "        print (\"Writing data to the SQL\")\n",
    "    else:\n",
    "        print (\"Operation failed\")"
   ]
  },
  {
   "cell_type": "code",
   "execution_count": null,
   "metadata": {},
   "outputs": [],
   "source": []
  }
 ],
 "metadata": {
  "kernelspec": {
   "display_name": "Python 3",
   "language": "python",
   "name": "python3"
  },
  "language_info": {
   "codemirror_mode": {
    "name": "ipython",
    "version": 3
   },
   "file_extension": ".py",
   "mimetype": "text/x-python",
   "name": "python",
   "nbconvert_exporter": "python",
   "pygments_lexer": "ipython3",
   "version": "3.6.5"
  }
 },
 "nbformat": 4,
 "nbformat_minor": 2
}
