{
 "cells": [
  {
   "cell_type": "code",
   "execution_count": 27,
   "metadata": {},
   "outputs": [],
   "source": [
    "from datetime import datetime as dt\n",
    "import time as tm #Implement a delay using sleep. \n",
    "import pandas as pd \n",
    "\n",
    "#---------------Method 1 ---------------#\n",
    "file = open(\"sensor_list.txt\", 'r')\n",
    "file.seek(0)\n",
    "sensor_name = file.readlines()\n",
    "stepper = 0\n",
    "      \n",
    "today = dt.today()\n",
    "filename = str(today.year)+\"-\"+str(today.month)+\"-\"+str(today.day)\n",
    "\n",
    "check_sensor = True #Assign check_sensor to self.adr to fetch the address of the sensor. \n",
    "\n",
    "for items in sensor_name: #Goes through the list of sensors in the text file. Better would be to use pandas and read an excel file. \n",
    "    \n",
    "    if check_sensor == True: #Checks if the address exists in \n",
    "                \n",
    "        '''Can replace with the actual file writing code.'''\n",
    "        \n",
    "        new_file=open(filename+\"_sensor_\"+str(stepper)+\".txt\", 'w+')\n",
    "        new_file.write(\"This is a test file\"+str(stepper+1))\n",
    "        new_file.close()\n",
    "        \n",
    "        \n",
    "        #just tried another way to write to csv, using data frame.\n",
    "        \n",
    "        dataframe = {\"Lux Data\":[0,2,3,4,5,5,3,4,3,2,2,3,4,20],\"Temp\":[0,34,2,3,2,1,45,34,23,5,66,4,67,56],\"Sensor_Tag\":[0,1,2,3,4,5,6,7,8,9,10,11,12,54]}\n",
    "        df_new = pd.DataFrame(data=dataframe)\n",
    "        df_new.to_csv(path_or_buf=filename+\"_sensor_\"+str(stepper)+\".csv\")       \n",
    "        \n",
    "    else:\n",
    "        pass\n",
    "        \n",
    "    stepper=stepper+1   "
   ]
  },
  {
   "cell_type": "code",
   "execution_count": 39,
   "metadata": {
    "scrolled": true
   },
   "outputs": [
    {
     "name": "stdout",
     "output_type": "stream",
     "text": [
      ">>>>>Writing data to the SQL for Sensor: 12:KL:JU:12 <<<<<<\n",
      "Operation failed\n",
      "Sensor Found: 25:LO:67:45\n",
      "Operation failed\n",
      "Sensor Found: 56:GH:DE:SW\n",
      "Operation failed\n",
      "Sensor Found: 45:WE:QA:DD\n",
      "Operation failed\n",
      "Sensor Found: 12:DE:SD:HJ\n"
     ]
    }
   ],
   "source": [
    "import pandas as pd\n",
    "data = pd.read_excel(\"Sensor_List.xlsx\", header=0)\n",
    "\n",
    "#---------------Method 2 ---------------#\n",
    "check = \"12:KL:JU:12\" #Obtained from self.addr \n",
    "\n",
    "Sensor_List =list(data.SensorList)\n",
    "for items in Sensor_List:\n",
    "    \n",
    "    if check == items:\n",
    "        #Insert write method. \n",
    "        print (\">>>>>Writing data to the SQL for Sensor: \"+items+\" <<<<<<\")\n",
    "    else:\n",
    "        print (\"Operation failed\")\n",
    "        print (\"Sensor Found: \"+str(items))"
   ]
  },
  {
   "cell_type": "code",
   "execution_count": null,
   "metadata": {},
   "outputs": [],
   "source": []
  }
 ],
 "metadata": {
  "kernelspec": {
   "display_name": "Python 3",
   "language": "python",
   "name": "python3"
  },
  "language_info": {
   "codemirror_mode": {
    "name": "ipython",
    "version": 3
   },
   "file_extension": ".py",
   "mimetype": "text/x-python",
   "name": "python",
   "nbconvert_exporter": "python",
   "pygments_lexer": "ipython3",
   "version": "3.6.5"
  }
 },
 "nbformat": 4,
 "nbformat_minor": 2
}
